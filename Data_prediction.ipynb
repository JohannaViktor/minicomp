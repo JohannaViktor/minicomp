{
 "cells": [
  {
   "cell_type": "code",
   "execution_count": 1,
   "metadata": {},
   "outputs": [],
   "source": [
    "import pandas as pd\n",
    "from sklearn.ensemble import RandomForestRegressor\n",
    "\n",
    "import matplotlib.pyplot as plt\n",
    "import seaborn as sns\n",
    "import numpy as np\n",
    "import os\n",
    "\n",
    "import sys"
   ]
  },
  {
   "cell_type": "code",
   "execution_count": 2,
   "metadata": {},
   "outputs": [],
   "source": [
    "import random_forest_model as rfm\n",
    "import load_data as ld\n",
    "import evan_data_cleaning as edc\n",
    "import FEngineer as fe"
   ]
  },
  {
   "cell_type": "markdown",
   "metadata": {},
   "source": [
    "### Data Loading"
   ]
  },
  {
   "cell_type": "code",
   "execution_count": 3,
   "metadata": {},
   "outputs": [
    {
     "name": "stdout",
     "output_type": "stream",
     "text": [
      "test.csv\n",
      "store.csv\n",
      "train.csv\n"
     ]
    },
    {
     "name": "stderr",
     "output_type": "stream",
     "text": [
      "/home/schulung/anaconda3/envs/minicomp/lib/python3.6/site-packages/IPython/core/interactiveshell.py:3242: DtypeWarning: Columns (7) have mixed types. Specify dtype option on import or set low_memory=False.\n",
      "  if (await self.run_code(code, result,  async_=asy)):\n"
     ]
    }
   ],
   "source": [
    "sys.path.append('../minicomp')\n",
    "raw_data = ld.load_raw_data()\n",
    "train_ = raw_data['train.csv']\n",
    "store_ = raw_data['store.csv']\n",
    "test = raw_data['test.csv']"
   ]
  },
  {
   "cell_type": "markdown",
   "metadata": {},
   "source": [
    "### Data Cleaning"
   ]
  },
  {
   "cell_type": "code",
   "execution_count": 4,
   "metadata": {},
   "outputs": [],
   "source": [
    "store = edc.clean_store(store_)\n",
    "#train = edc.clean_train(train_)\n",
    "test = edc.clean_train(test)\n",
    "\n",
    "test = edc.fill_fast(test,'Sales')\n",
    "test = edc.fill_fast(test,'Customers')\n",
    "merged_csvs_test = edc.store_train_merge(store,test)"
   ]
  },
  {
   "cell_type": "code",
   "execution_count": 5,
   "metadata": {},
   "outputs": [],
   "source": [
    "\n",
    "train = edc.clean_train(train_)\n",
    "\n",
    "train = edc.fill_fast(train,'Sales')\n",
    "train = edc.fill_fast(train,'Customers')\n",
    "merged_csvs = edc.store_train_merge(store,train)"
   ]
  },
  {
   "cell_type": "markdown",
   "metadata": {},
   "source": [
    "### Feature Engineering"
   ]
  },
  {
   "cell_type": "code",
   "execution_count": 6,
   "metadata": {},
   "outputs": [],
   "source": [
    "fe_merge = fe.FEngineer(merged_csvs)"
   ]
  },
  {
   "cell_type": "code",
   "execution_count": 7,
   "metadata": {},
   "outputs": [],
   "source": [
    "merged_csvs_test = fe.FEngineer(merged_csvs_test)"
   ]
  },
  {
   "cell_type": "markdown",
   "metadata": {},
   "source": [
    "### Train - Validation -Split"
   ]
  },
  {
   "cell_type": "code",
   "execution_count": 8,
   "metadata": {},
   "outputs": [],
   "source": [
    "X_train, X_test, y_train, y_test = rfm.split_train_valid(fe_merge)"
   ]
  },
  {
   "cell_type": "markdown",
   "metadata": {},
   "source": [
    "### Baseline"
   ]
  },
  {
   "cell_type": "code",
   "execution_count": 9,
   "metadata": {},
   "outputs": [
    {
     "data": {
      "text/plain": [
       "63.16566610856383"
      ]
     },
     "execution_count": 9,
     "metadata": {},
     "output_type": "execute_result"
    }
   ],
   "source": [
    "#baseline\n",
    "#compare to simplest baseline\n",
    "baseline_simple = np.empty_like(y_test)\n",
    "baseline_simple[:]=train['Sales'].mean()\n",
    "#baseline_simple= baseline_simple.fill(train['Sales'].mean())\n",
    "error_baseline_simple = rfm.rmse(y_test.values,baseline_simple)\n",
    "error_baseline_simple"
   ]
  },
  {
   "cell_type": "markdown",
   "metadata": {},
   "source": [
    "## Models\n",
    "### Random Forest"
   ]
  },
  {
   "cell_type": "code",
   "execution_count": 10,
   "metadata": {},
   "outputs": [],
   "source": [
    "#Hyperparameters\n",
    "n_estimators = 1000\n",
    "max_depth = 15 # change variance\n",
    "max_features = 10 #(sqrt)"
   ]
  },
  {
   "cell_type": "code",
   "execution_count": 11,
   "metadata": {},
   "outputs": [
    {
     "name": "stderr",
     "output_type": "stream",
     "text": [
      "[Parallel(n_jobs=-1)]: Using backend ThreadingBackend with 8 concurrent workers.\n",
      "[Parallel(n_jobs=-1)]: Done  34 tasks      | elapsed:    3.4s\n",
      "[Parallel(n_jobs=-1)]: Done 184 tasks      | elapsed:   15.9s\n",
      "[Parallel(n_jobs=-1)]: Done 434 tasks      | elapsed:   38.0s\n",
      "[Parallel(n_jobs=-1)]: Done 784 tasks      | elapsed:  1.1min\n",
      "[Parallel(n_jobs=-1)]: Done 1000 out of 1000 | elapsed:  1.4min finished\n",
      "[Parallel(n_jobs=8)]: Using backend ThreadingBackend with 8 concurrent workers.\n",
      "[Parallel(n_jobs=8)]: Done  34 tasks      | elapsed:    0.1s\n",
      "[Parallel(n_jobs=8)]: Done 184 tasks      | elapsed:    0.6s\n",
      "[Parallel(n_jobs=8)]: Done 434 tasks      | elapsed:    1.3s\n",
      "[Parallel(n_jobs=8)]: Done 784 tasks      | elapsed:    2.4s\n",
      "[Parallel(n_jobs=8)]: Done 1000 out of 1000 | elapsed:    3.0s finished\n",
      "[Parallel(n_jobs=8)]: Using backend ThreadingBackend with 8 concurrent workers.\n",
      "[Parallel(n_jobs=8)]: Done  34 tasks      | elapsed:    0.2s\n",
      "[Parallel(n_jobs=8)]: Done 184 tasks      | elapsed:    1.1s\n",
      "[Parallel(n_jobs=8)]: Done 434 tasks      | elapsed:    2.6s\n",
      "[Parallel(n_jobs=8)]: Done 784 tasks      | elapsed:    4.7s\n",
      "[Parallel(n_jobs=8)]: Done 1000 out of 1000 | elapsed:    5.9s finished\n"
     ]
    }
   ],
   "source": [
    "rfr, prediction, prediction_train = rfm.rfm_fit(X_train, X_test, y_train, y_test,n_estimators,max_depth, max_features)"
   ]
  },
  {
   "cell_type": "code",
   "execution_count": 13,
   "metadata": {},
   "outputs": [
    {
     "name": "stderr",
     "output_type": "stream",
     "text": [
      "[Parallel(n_jobs=8)]: Using backend ThreadingBackend with 8 concurrent workers.\n",
      "[Parallel(n_jobs=8)]: Done  34 tasks      | elapsed:    0.2s\n",
      "[Parallel(n_jobs=8)]: Done 184 tasks      | elapsed:    0.7s\n",
      "[Parallel(n_jobs=8)]: Done 434 tasks      | elapsed:    1.5s\n",
      "[Parallel(n_jobs=8)]: Done 784 tasks      | elapsed:    2.7s\n",
      "[Parallel(n_jobs=8)]: Done 1000 out of 1000 | elapsed:    3.4s finished\n"
     ]
    }
   ],
   "source": [
    "#prepare test \n",
    "target_TEST = merged_csvs_test['Sales']\n",
    "features_TEST = merged_csvs_test.drop('Sales',axis=1)\n",
    "prediction_TEST_rf = rfr.predict(features_TEST.values)\n"
   ]
  },
  {
   "cell_type": "code",
   "execution_count": 15,
   "metadata": {},
   "outputs": [
    {
     "name": "stdout",
     "output_type": "stream",
     "text": [
      "10.73017732709097\n",
      "6.923552843862355\n"
     ]
    }
   ],
   "source": [
    "#Error\n",
    "error_test = rfm.rmse (target_TEST.values, prediction_TEST_rf)\n",
    "error_train = rfm.rmse (y_train.values,prediction_train)\n",
    "\n",
    "print(error_test)\n",
    "print(error_train)"
   ]
  },
  {
   "cell_type": "markdown",
   "metadata": {},
   "source": [
    "### XGBoost"
   ]
  },
  {
   "cell_type": "code",
   "execution_count": 16,
   "metadata": {},
   "outputs": [],
   "source": [
    "#Hyperparameters\n",
    "n_estimators = 200\n",
    "max_depth = 10 # change variance\n",
    "max_features = 10 #(sqrt)"
   ]
  },
  {
   "cell_type": "code",
   "execution_count": 17,
   "metadata": {},
   "outputs": [
    {
     "name": "stderr",
     "output_type": "stream",
     "text": [
      "/home/schulung/anaconda3/envs/minicomp/lib/python3.6/site-packages/xgboost/core.py:587: FutureWarning: Series.base is deprecated and will be removed in a future version\n",
      "  if getattr(data, 'base', None) is not None and \\\n"
     ]
    },
    {
     "name": "stdout",
     "output_type": "stream",
     "text": [
      "[16:26:51] WARNING: /workspace/src/objective/regression_obj.cu:152: reg:linear is now deprecated in favor of reg:squarederror.\n"
     ]
    }
   ],
   "source": [
    "xgb_model ,pred, pred_train = rfm.xgboost(X_train, X_test, y_train, y_test,n_estimators,max_depth, max_features)\n"
   ]
  },
  {
   "cell_type": "code",
   "execution_count": 18,
   "metadata": {},
   "outputs": [],
   "source": [
    "prediction_TEST_xg = xgb_model.predict(features_TEST)\n"
   ]
  },
  {
   "cell_type": "code",
   "execution_count": 19,
   "metadata": {},
   "outputs": [
    {
     "name": "stdout",
     "output_type": "stream",
     "text": [
      "8.872011025502292\n",
      "5.564394774153441\n"
     ]
    }
   ],
   "source": [
    "#Errors\n",
    "error_test_xgb = rfm.rmse (target_TEST.values, prediction_TEST_xg)\n",
    "error_train_xgb = rfm.rmse (y_train.values,pred_train)\n",
    "\n",
    "print(error_test_xgb)\n",
    "print(error_train_xgb)"
   ]
  },
  {
   "cell_type": "markdown",
   "metadata": {},
   "source": [
    "### Plots: predictions of different models over real data"
   ]
  },
  {
   "cell_type": "code",
   "execution_count": 21,
   "metadata": {},
   "outputs": [
    {
     "data": {
      "image/png": "[encoded data removed]",
      "text/plain": [
       "<Figure size 432x288 with 1 Axes>"
      ]
     },
     "metadata": {
      "needs_background": "light"
     },
     "output_type": "display_data"
    }
   ],
   "source": [
    "plt.scatter(prediction_TEST_rf,target_TEST,color='red')\n",
    "plt.scatter(prediction_TEST_xg,target_TEST,color='blue')\n",
    "plt.show()"
   ]
  },
  {
   "cell_type": "markdown",
   "metadata": {},
   "source": [
    "### Plot Feature Importance"
   ]
  },
  {
   "cell_type": "code",
   "execution_count": 22,
   "metadata": {},
   "outputs": [
    {
     "data": {
      "image/png": "[encoded data removed]",
      "text/plain": [
       "<Figure size 432x288 with 1 Axes>"
      ]
     },
     "metadata": {
      "needs_background": "light"
     },
     "output_type": "display_data"
    }
   ],
   "source": [
    "home_mod = os.path.join(os.environ['HOME'], 'minicomp', 'raw-data')\n",
    "rfm.plot_feature_importances(rfr,X_train.columns,home_mod)"
   ]
  },
  {
   "cell_type": "code",
   "execution_count": 23,
   "metadata": {},
   "outputs": [
    {
     "data": {
      "image/png": "[encoded data removed]",
      "text/plain": [
       "<Figure size 432x288 with 1 Axes>"
      ]
     },
     "metadata": {
      "needs_background": "light"
     },
     "output_type": "display_data"
    }
   ],
   "source": [
    "rfm.plot_feature_importances(xgb_model,X_train.columns,home_mod)"
   ]
  }
 ],
 "metadata": {
  "kernelspec": {
   "display_name": "Python 3",
   "language": "python",
   "name": "python3"
  },
  "language_info": {
   "codemirror_mode": {
    "name": "ipython",
    "version": 3
   },
   "file_extension": ".py",
   "mimetype": "text/x-python",
   "name": "python",
   "nbconvert_exporter": "python",
   "pygments_lexer": "ipython3",
   "version": "3.6.8"
  }
 },
 "nbformat": 4,
 "nbformat_minor": 4
}
